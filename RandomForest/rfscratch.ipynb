{
 "cells": [
  {
   "cell_type": "code",
   "execution_count": 81,
   "metadata": {},
   "outputs": [
    {
     "name": "stdout",
     "output_type": "stream",
     "text": [
      "Requirement already satisfied: scikit-learn==0.21.3 in /home/ricco/anaconda3/lib/python3.7/site-packages (0.21.3)\n",
      "Requirement already satisfied: numpy>=1.11.0 in /home/ricco/anaconda3/lib/python3.7/site-packages (from scikit-learn==0.21.3) (1.18.1)\n",
      "Requirement already satisfied: scipy>=0.17.0 in /home/ricco/anaconda3/lib/python3.7/site-packages (from scikit-learn==0.21.3) (1.4.1)\n",
      "Requirement already satisfied: joblib>=0.11 in /home/ricco/anaconda3/lib/python3.7/site-packages (from scikit-learn==0.21.3) (0.14.1)\n",
      "Requirement already satisfied: fastai==0.7 in /home/ricco/anaconda3/lib/python3.7/site-packages (0.7.0)\n",
      "Requirement already satisfied: jsonschema in /home/ricco/anaconda3/lib/python3.7/site-packages (from fastai==0.7) (3.2.0)\n",
      "Requirement already satisfied: numpy in /home/ricco/anaconda3/lib/python3.7/site-packages (from fastai==0.7) (1.18.1)\n",
      "Requirement already satisfied: jupyter in /home/ricco/anaconda3/lib/python3.7/site-packages (from fastai==0.7) (1.0.0)\n",
      "Requirement already satisfied: pyparsing in /home/ricco/anaconda3/lib/python3.7/site-packages (from fastai==0.7) (2.4.6)\n",
      "Requirement already satisfied: PyYAML in /home/ricco/anaconda3/lib/python3.7/site-packages (from fastai==0.7) (5.3)\n",
      "Requirement already satisfied: simplegeneric in /home/ricco/anaconda3/lib/python3.7/site-packages (from fastai==0.7) (0.8.1)\n",
      "Requirement already satisfied: decorator in /home/ricco/anaconda3/lib/python3.7/site-packages (from fastai==0.7) (4.4.1)\n",
      "Requirement already satisfied: plotnine in /home/ricco/anaconda3/lib/python3.7/site-packages (from fastai==0.7) (0.6.0)\n",
      "Requirement already satisfied: opencv-python in /home/ricco/anaconda3/lib/python3.7/site-packages (from fastai==0.7) (4.2.0.34)\n",
      "Requirement already satisfied: traitlets in /home/ricco/anaconda3/lib/python3.7/site-packages (from fastai==0.7) (4.3.3)\n",
      "Requirement already satisfied: python-dateutil in /home/ricco/anaconda3/lib/python3.7/site-packages (from fastai==0.7) (2.8.1)\n",
      "Requirement already satisfied: testpath in /home/ricco/anaconda3/lib/python3.7/site-packages (from fastai==0.7) (0.4.4)\n",
      "Requirement already satisfied: pyzmq in /home/ricco/anaconda3/lib/python3.7/site-packages (from fastai==0.7) (18.1.1)\n",
      "Requirement already satisfied: ipywidgets in /home/ricco/anaconda3/lib/python3.7/site-packages (from fastai==0.7) (7.5.1)\n",
      "Requirement already satisfied: pandas-summary in /home/ricco/anaconda3/lib/python3.7/site-packages (from fastai==0.7) (0.0.7)\n",
      "Requirement already satisfied: Pillow in /home/ricco/anaconda3/lib/python3.7/site-packages (from fastai==0.7) (7.0.0)\n",
      "Requirement already satisfied: pandas in /home/ricco/anaconda3/lib/python3.7/site-packages (from fastai==0.7) (1.0.1)\n",
      "Requirement already satisfied: pytz in /home/ricco/anaconda3/lib/python3.7/site-packages (from fastai==0.7) (2019.3)\n",
      "Requirement already satisfied: cycler in /home/ricco/anaconda3/lib/python3.7/site-packages (from fastai==0.7) (0.10.0)\n",
      "Requirement already satisfied: certifi in /home/ricco/anaconda3/lib/python3.7/site-packages (from fastai==0.7) (2019.11.28)\n",
      "Requirement already satisfied: jedi in /home/ricco/anaconda3/lib/python3.7/site-packages (from fastai==0.7) (0.14.1)\n",
      "Requirement already satisfied: sklearn-pandas in /home/ricco/anaconda3/lib/python3.7/site-packages (from fastai==0.7) (1.8.0)\n",
      "Requirement already satisfied: tqdm in /home/ricco/anaconda3/lib/python3.7/site-packages (from fastai==0.7) (4.42.1)\n",
      "Requirement already satisfied: webencodings in /home/ricco/anaconda3/lib/python3.7/site-packages (from fastai==0.7) (0.5.1)\n",
      "Requirement already satisfied: widgetsnbextension in /home/ricco/anaconda3/lib/python3.7/site-packages (from fastai==0.7) (3.5.1)\n",
      "Requirement already satisfied: Pygments in /home/ricco/anaconda3/lib/python3.7/site-packages (from fastai==0.7) (2.5.2)\n",
      "Requirement already satisfied: scipy in /home/ricco/anaconda3/lib/python3.7/site-packages (from fastai==0.7) (1.4.1)\n",
      "Requirement already satisfied: torchvision in /home/ricco/anaconda3/lib/python3.7/site-packages (from fastai==0.7) (0.2.1)\n",
      "Requirement already satisfied: matplotlib in /home/ricco/anaconda3/lib/python3.7/site-packages (from fastai==0.7) (3.1.3)\n",
      "Requirement already satisfied: bcolz in /home/ricco/anaconda3/lib/python3.7/site-packages (from fastai==0.7) (1.2.1)\n",
      "Requirement already satisfied: ptyprocess in /home/ricco/anaconda3/lib/python3.7/site-packages (from fastai==0.7) (0.6.0)\n",
      "Requirement already satisfied: entrypoints in /home/ricco/anaconda3/lib/python3.7/site-packages (from fastai==0.7) (0.3)\n",
      "Collecting torchtext\n",
      "  Using cached torchtext-0.5.0-py3-none-any.whl (73 kB)\n",
      "Requirement already satisfied: wcwidth in /home/ricco/anaconda3/lib/python3.7/site-packages (from fastai==0.7) (0.1.8)\n",
      "Requirement already satisfied: isoweek in /home/ricco/anaconda3/lib/python3.7/site-packages (from fastai==0.7) (1.3.3)\n",
      "Requirement already satisfied: Jinja2 in /home/ricco/anaconda3/lib/python3.7/site-packages (from fastai==0.7) (2.11.1)\n",
      "Requirement already satisfied: seaborn in /home/ricco/anaconda3/lib/python3.7/site-packages (from fastai==0.7) (0.10.0)\n",
      "Collecting torch<0.4\n",
      "  Using cached torch-0.1.2.post2.tar.gz (128 kB)\n",
      "Requirement already satisfied: ipykernel in /home/ricco/anaconda3/lib/python3.7/site-packages (from fastai==0.7) (5.1.4)\n",
      "Requirement already satisfied: tornado in /home/ricco/anaconda3/lib/python3.7/site-packages (from fastai==0.7) (6.0.3)\n",
      "Requirement already satisfied: graphviz in /home/ricco/anaconda3/lib/python3.7/site-packages (from fastai==0.7) (0.13.2)\n",
      "Requirement already satisfied: pickleshare in /home/ricco/anaconda3/lib/python3.7/site-packages (from fastai==0.7) (0.7.5)\n",
      "Requirement already satisfied: bleach in /home/ricco/anaconda3/lib/python3.7/site-packages (from fastai==0.7) (3.1.0)\n",
      "Requirement already satisfied: html5lib in /home/ricco/anaconda3/lib/python3.7/site-packages (from fastai==0.7) (1.0.1)\n",
      "Requirement already satisfied: ipython-genutils in /home/ricco/anaconda3/lib/python3.7/site-packages (from fastai==0.7) (0.2.0)\n",
      "Requirement already satisfied: MarkupSafe in /home/ricco/anaconda3/lib/python3.7/site-packages (from fastai==0.7) (1.1.1)\n",
      "Requirement already satisfied: feather-format in /home/ricco/anaconda3/lib/python3.7/site-packages (from fastai==0.7) (0.4.0)\n",
      "Requirement already satisfied: ipython in /home/ricco/anaconda3/lib/python3.7/site-packages (from fastai==0.7) (7.12.0)\n",
      "Requirement already satisfied: attrs>=17.4.0 in /home/ricco/anaconda3/lib/python3.7/site-packages (from jsonschema->fastai==0.7) (19.3.0)\n",
      "Requirement already satisfied: importlib-metadata; python_version < \"3.8\" in /home/ricco/anaconda3/lib/python3.7/site-packages (from jsonschema->fastai==0.7) (1.5.0)\n",
      "Requirement already satisfied: six>=1.11.0 in /home/ricco/anaconda3/lib/python3.7/site-packages (from jsonschema->fastai==0.7) (1.14.0)\n",
      "Requirement already satisfied: setuptools in /home/ricco/anaconda3/lib/python3.7/site-packages (from jsonschema->fastai==0.7) (45.2.0.post20200210)\n",
      "Requirement already satisfied: pyrsistent>=0.14.0 in /home/ricco/anaconda3/lib/python3.7/site-packages (from jsonschema->fastai==0.7) (0.15.7)\n",
      "Requirement already satisfied: notebook in /home/ricco/anaconda3/lib/python3.7/site-packages (from jupyter->fastai==0.7) (6.0.3)\n",
      "Requirement already satisfied: jupyter-console in /home/ricco/anaconda3/lib/python3.7/site-packages (from jupyter->fastai==0.7) (6.1.0)\n",
      "Requirement already satisfied: nbconvert in /home/ricco/anaconda3/lib/python3.7/site-packages (from jupyter->fastai==0.7) (5.6.1)\n",
      "Requirement already satisfied: qtconsole in /home/ricco/anaconda3/lib/python3.7/site-packages (from jupyter->fastai==0.7) (4.6.0)\n",
      "Requirement already satisfied: mizani>=0.6.0 in /home/ricco/anaconda3/lib/python3.7/site-packages (from plotnine->fastai==0.7) (0.6.0)\n",
      "Requirement already satisfied: statsmodels>=0.9.0 in /home/ricco/anaconda3/lib/python3.7/site-packages (from plotnine->fastai==0.7) (0.11.0)\n",
      "Requirement already satisfied: descartes>=1.1.0 in /home/ricco/anaconda3/lib/python3.7/site-packages (from plotnine->fastai==0.7) (1.1.0)\n",
      "Requirement already satisfied: patsy>=0.4.1 in /home/ricco/anaconda3/lib/python3.7/site-packages (from plotnine->fastai==0.7) (0.5.1)\n",
      "Requirement already satisfied: nbformat>=4.2.0 in /home/ricco/anaconda3/lib/python3.7/site-packages (from ipywidgets->fastai==0.7) (5.0.4)\n"
     ]
    },
    {
     "name": "stdout",
     "output_type": "stream",
     "text": [
      "Requirement already satisfied: parso>=0.5.0 in /home/ricco/anaconda3/lib/python3.7/site-packages (from jedi->fastai==0.7) (0.5.2)\n",
      "Requirement already satisfied: scikit-learn>=0.15.0 in /home/ricco/anaconda3/lib/python3.7/site-packages (from sklearn-pandas->fastai==0.7) (0.21.3)\n",
      "Requirement already satisfied: kiwisolver>=1.0.1 in /home/ricco/anaconda3/lib/python3.7/site-packages (from matplotlib->fastai==0.7) (1.1.0)\n",
      "Requirement already satisfied: requests in /home/ricco/anaconda3/lib/python3.7/site-packages (from torchtext->fastai==0.7) (2.22.0)\n",
      "Requirement already satisfied: sentencepiece in /home/ricco/anaconda3/lib/python3.7/site-packages (from torchtext->fastai==0.7) (0.1.85)\n",
      "Requirement already satisfied: jupyter-client in /home/ricco/anaconda3/lib/python3.7/site-packages (from ipykernel->fastai==0.7) (5.3.4)\n",
      "Requirement already satisfied: pyarrow>=0.4.0 in /home/ricco/anaconda3/lib/python3.7/site-packages (from feather-format->fastai==0.7) (0.16.0)\n",
      "Requirement already satisfied: backcall in /home/ricco/anaconda3/lib/python3.7/site-packages (from ipython->fastai==0.7) (0.1.0)\n",
      "Requirement already satisfied: pexpect; sys_platform != \"win32\" in /home/ricco/anaconda3/lib/python3.7/site-packages (from ipython->fastai==0.7) (4.8.0)\n",
      "Requirement already satisfied: prompt-toolkit!=3.0.0,!=3.0.1,<3.1.0,>=2.0.0 in /home/ricco/anaconda3/lib/python3.7/site-packages (from ipython->fastai==0.7) (3.0.3)\n",
      "Requirement already satisfied: zipp>=0.5 in /home/ricco/anaconda3/lib/python3.7/site-packages (from importlib-metadata; python_version < \"3.8\"->jsonschema->fastai==0.7) (2.2.0)\n",
      "Requirement already satisfied: terminado>=0.8.1 in /home/ricco/anaconda3/lib/python3.7/site-packages (from notebook->jupyter->fastai==0.7) (0.8.3)\n",
      "Requirement already satisfied: prometheus-client in /home/ricco/anaconda3/lib/python3.7/site-packages (from notebook->jupyter->fastai==0.7) (0.7.1)\n",
      "Requirement already satisfied: jupyter-core>=4.6.1 in /home/ricco/anaconda3/lib/python3.7/site-packages (from notebook->jupyter->fastai==0.7) (4.6.1)\n",
      "Requirement already satisfied: Send2Trash in /home/ricco/anaconda3/lib/python3.7/site-packages (from notebook->jupyter->fastai==0.7) (1.5.0)\n",
      "Requirement already satisfied: defusedxml in /home/ricco/anaconda3/lib/python3.7/site-packages (from nbconvert->jupyter->fastai==0.7) (0.6.0)\n",
      "Requirement already satisfied: pandocfilters>=1.4.1 in /home/ricco/anaconda3/lib/python3.7/site-packages (from nbconvert->jupyter->fastai==0.7) (1.4.2)\n",
      "Requirement already satisfied: mistune<2,>=0.8.1 in /home/ricco/anaconda3/lib/python3.7/site-packages (from nbconvert->jupyter->fastai==0.7) (0.8.4)\n",
      "Requirement already satisfied: palettable in /home/ricco/anaconda3/lib/python3.7/site-packages (from mizani>=0.6.0->plotnine->fastai==0.7) (3.3.0)\n",
      "Requirement already satisfied: joblib>=0.11 in /home/ricco/anaconda3/lib/python3.7/site-packages (from scikit-learn>=0.15.0->sklearn-pandas->fastai==0.7) (0.14.1)\n",
      "Requirement already satisfied: chardet<3.1.0,>=3.0.2 in /home/ricco/anaconda3/lib/python3.7/site-packages (from requests->torchtext->fastai==0.7) (3.0.4)\n",
      "Requirement already satisfied: idna<2.9,>=2.5 in /home/ricco/anaconda3/lib/python3.7/site-packages (from requests->torchtext->fastai==0.7) (2.8)\n",
      "Requirement already satisfied: urllib3!=1.25.0,!=1.25.1,<1.26,>=1.21.1 in /home/ricco/anaconda3/lib/python3.7/site-packages (from requests->torchtext->fastai==0.7) (1.25.8)\n",
      "Building wheels for collected packages: torch\n",
      "  Building wheel for torch (setup.py) ... \u001b[?25lerror\n",
      "\u001b[31m  ERROR: Command errored out with exit status 1:\n",
      "   command: /home/ricco/anaconda3/bin/python -u -c 'import sys, setuptools, tokenize; sys.argv[0] = '\"'\"'/tmp/pip-install-dcfw89xr/torch/setup.py'\"'\"'; __file__='\"'\"'/tmp/pip-install-dcfw89xr/torch/setup.py'\"'\"';f=getattr(tokenize, '\"'\"'open'\"'\"', open)(__file__);code=f.read().replace('\"'\"'\\r\\n'\"'\"', '\"'\"'\\n'\"'\"');f.close();exec(compile(code, __file__, '\"'\"'exec'\"'\"'))' bdist_wheel -d /tmp/pip-wheel-_hx9eda4\n",
      "       cwd: /tmp/pip-install-dcfw89xr/torch/\n",
      "  Complete output (30 lines):\n",
      "  running bdist_wheel\n",
      "  running build\n",
      "  running build_deps\n",
      "  Traceback (most recent call last):\n",
      "    File \"<string>\", line 1, in <module>\n",
      "    File \"/tmp/pip-install-dcfw89xr/torch/setup.py\", line 265, in <module>\n",
      "      description=\"Tensors and Dynamic neural networks in Python with strong GPU acceleration\",\n",
      "    File \"/home/ricco/anaconda3/lib/python3.7/site-packages/setuptools/__init__.py\", line 144, in setup\n",
      "      return distutils.core.setup(**attrs)\n",
      "    File \"/home/ricco/anaconda3/lib/python3.7/distutils/core.py\", line 148, in setup\n",
      "      dist.run_commands()\n",
      "    File \"/home/ricco/anaconda3/lib/python3.7/distutils/dist.py\", line 966, in run_commands\n",
      "      self.run_command(cmd)\n",
      "    File \"/home/ricco/anaconda3/lib/python3.7/distutils/dist.py\", line 985, in run_command\n",
      "      cmd_obj.run()\n",
      "    File \"/home/ricco/anaconda3/lib/python3.7/site-packages/wheel/bdist_wheel.py\", line 223, in run\n",
      "      self.run_command('build')\n",
      "    File \"/home/ricco/anaconda3/lib/python3.7/distutils/cmd.py\", line 313, in run_command\n",
      "      self.distribution.run_command(command)\n",
      "    File \"/home/ricco/anaconda3/lib/python3.7/distutils/dist.py\", line 985, in run_command\n",
      "      cmd_obj.run()\n",
      "    File \"/home/ricco/anaconda3/lib/python3.7/distutils/command/build.py\", line 135, in run\n",
      "      self.run_command(cmd_name)\n",
      "    File \"/home/ricco/anaconda3/lib/python3.7/distutils/cmd.py\", line 313, in run_command\n",
      "      self.distribution.run_command(command)\n",
      "    File \"/home/ricco/anaconda3/lib/python3.7/distutils/dist.py\", line 985, in run_command\n",
      "      cmd_obj.run()\n",
      "    File \"/tmp/pip-install-dcfw89xr/torch/setup.py\", line 51, in run\n",
      "      from tools.nnwrap import generate_wrappers as generate_nn_wrappers\n",
      "  ModuleNotFoundError: No module named 'tools.nnwrap'\n",
      "  ----------------------------------------\u001b[0m\n",
      "\u001b[31m  ERROR: Failed building wheel for torch\u001b[0m\n",
      "\u001b[?25h  Running setup.py clean for torch\n",
      "\u001b[31m  ERROR: Command errored out with exit status 1:\n",
      "   command: /home/ricco/anaconda3/bin/python -u -c 'import sys, setuptools, tokenize; sys.argv[0] = '\"'\"'/tmp/pip-install-dcfw89xr/torch/setup.py'\"'\"'; __file__='\"'\"'/tmp/pip-install-dcfw89xr/torch/setup.py'\"'\"';f=getattr(tokenize, '\"'\"'open'\"'\"', open)(__file__);code=f.read().replace('\"'\"'\\r\\n'\"'\"', '\"'\"'\\n'\"'\"');f.close();exec(compile(code, __file__, '\"'\"'exec'\"'\"'))' clean --all\n",
      "       cwd: /tmp/pip-install-dcfw89xr/torch\n",
      "  Complete output (2 lines):\n",
      "  running clean\n",
      "  error: [Errno 2] No such file or directory: '.gitignore'\n",
      "  ----------------------------------------\u001b[0m\n",
      "\u001b[31m  ERROR: Failed cleaning build dir for torch\u001b[0m\n",
      "Failed to build torch\n",
      "Installing collected packages: torch, torchtext\n",
      "  Attempting uninstall: torch\n",
      "    Found existing installation: torch 0.4.1\n",
      "    Uninstalling torch-0.4.1:\n",
      "      Successfully uninstalled torch-0.4.1\n",
      "    Running setup.py install for torch ... \u001b[?25lerror\n",
      "\u001b[31m    ERROR: Command errored out with exit status 1:\n",
      "     command: /home/ricco/anaconda3/bin/python -u -c 'import sys, setuptools, tokenize; sys.argv[0] = '\"'\"'/tmp/pip-install-dcfw89xr/torch/setup.py'\"'\"'; __file__='\"'\"'/tmp/pip-install-dcfw89xr/torch/setup.py'\"'\"';f=getattr(tokenize, '\"'\"'open'\"'\"', open)(__file__);code=f.read().replace('\"'\"'\\r\\n'\"'\"', '\"'\"'\\n'\"'\"');f.close();exec(compile(code, __file__, '\"'\"'exec'\"'\"'))' install --record /tmp/pip-record-oykm1yhm/install-record.txt --single-version-externally-managed --compile --install-headers /home/ricco/anaconda3/include/python3.7m/torch\n",
      "         cwd: /tmp/pip-install-dcfw89xr/torch/\n",
      "    Complete output (23 lines):\n",
      "    running install\n",
      "    running build_deps\n",
      "    Traceback (most recent call last):\n",
      "      File \"<string>\", line 1, in <module>\n",
      "      File \"/tmp/pip-install-dcfw89xr/torch/setup.py\", line 265, in <module>\n",
      "        description=\"Tensors and Dynamic neural networks in Python with strong GPU acceleration\",\n",
      "      File \"/home/ricco/anaconda3/lib/python3.7/site-packages/setuptools/__init__.py\", line 144, in setup\n",
      "        return distutils.core.setup(**attrs)\n",
      "      File \"/home/ricco/anaconda3/lib/python3.7/distutils/core.py\", line 148, in setup\n",
      "        dist.run_commands()\n",
      "      File \"/home/ricco/anaconda3/lib/python3.7/distutils/dist.py\", line 966, in run_commands\n",
      "        self.run_command(cmd)\n",
      "      File \"/home/ricco/anaconda3/lib/python3.7/distutils/dist.py\", line 985, in run_command\n",
      "        cmd_obj.run()\n",
      "      File \"/tmp/pip-install-dcfw89xr/torch/setup.py\", line 99, in run\n",
      "        self.run_command('build_deps')\n",
      "      File \"/home/ricco/anaconda3/lib/python3.7/distutils/cmd.py\", line 313, in run_command\n",
      "        self.distribution.run_command(command)\n",
      "      File \"/home/ricco/anaconda3/lib/python3.7/distutils/dist.py\", line 985, in run_command\n",
      "        cmd_obj.run()\n",
      "      File \"/tmp/pip-install-dcfw89xr/torch/setup.py\", line 51, in run\n",
      "        from tools.nnwrap import generate_wrappers as generate_nn_wrappers\n",
      "    ModuleNotFoundError: No module named 'tools.nnwrap'\n",
      "    ----------------------------------------\u001b[0m\n",
      "\u001b[?25h  Rolling back uninstall of torch\n",
      "  Moving to /home/ricco/anaconda3/lib/python3.7/site-packages/torch-0.4.1.dist-info/\n",
      "   from /home/ricco/anaconda3/lib/python3.7/site-packages/~orch-0.4.1.dist-info\n",
      "  Moving to /home/ricco/anaconda3/lib/python3.7/site-packages/torch/\n",
      "   from /home/ricco/anaconda3/lib/python3.7/site-packages/~orch\n",
      "\u001b[31mERROR: Command errored out with exit status 1: /home/ricco/anaconda3/bin/python -u -c 'import sys, setuptools, tokenize; sys.argv[0] = '\"'\"'/tmp/pip-install-dcfw89xr/torch/setup.py'\"'\"'; __file__='\"'\"'/tmp/pip-install-dcfw89xr/torch/setup.py'\"'\"';f=getattr(tokenize, '\"'\"'open'\"'\"', open)(__file__);code=f.read().replace('\"'\"'\\r\\n'\"'\"', '\"'\"'\\n'\"'\"');f.close();exec(compile(code, __file__, '\"'\"'exec'\"'\"'))' install --record /tmp/pip-record-oykm1yhm/install-record.txt --single-version-externally-managed --compile --install-headers /home/ricco/anaconda3/include/python3.7m/torch Check the logs for full command output.\u001b[0m\n"
     ]
    }
   ],
   "source": [
    "import pandas as pd\n",
    "import numpy as np\n",
    "import matplotlib.pyplot as plt\n",
    "!pip install scikit-learn==0.21.3\n",
    "!pip install fastai==0.7\n",
    "from fastai.imports import *\n",
    "from fastai.structured import *\n",
    "from sklearn.ensemble import RandomForestRegressor, RandomForestClassifier\n",
    "from IPython.display import display\n",
    "from sklearn import metrics\n"
   ]
  },
  {
   "cell_type": "code",
   "execution_count": 82,
   "metadata": {},
   "outputs": [],
   "source": [
    "df_raw= pd.read_feather ('tmp/bulldozers-raw')\n",
    "df_trn, y_trn, nas= proc_df(df_raw, 'SalePrice')"
   ]
  },
  {
   "cell_type": "code",
   "execution_count": 83,
   "metadata": {},
   "outputs": [],
   "source": [
    "def split_vals(a,n): return a[:n], a[n:]\n",
    "n_valid = 12000\n",
    "n_trn = len(df_trn)-n_valid\n",
    "X_train, X_valid = split_vals(df_trn, n_trn)\n",
    "y_train, y_valid = split_vals(y_trn, n_trn)\n",
    "raw_train, raw_valid = split_vals(df_raw, n_trn)"
   ]
  },
  {
   "cell_type": "code",
   "execution_count": 84,
   "metadata": {},
   "outputs": [],
   "source": [
    "x_sub = X_train[['YearMade', 'MachineHoursCurrentMeter']]"
   ]
  },
  {
   "cell_type": "markdown",
   "metadata": {},
   "source": [
    "Basic data structures"
   ]
  },
  {
   "cell_type": "code",
   "execution_count": 85,
   "metadata": {},
   "outputs": [],
   "source": [
    "class TreeEnsemble():\n",
    "    def __init__(self, x, y, n_trees, sample_sz, min_leaf=5):\n",
    "        np.random.seed(42)\n",
    "        self.x,self.y,self.sample_sz,self.min_leaf = x,y,sample_sz,min_leaf\n",
    "        self.trees = [self.create_tree() for i in range(n_trees)]\n",
    "\n",
    "    def create_tree(self):\n",
    "        rnd_idxs = np.random.permutation(len(self.y))[:self.sample_sz]\n",
    "        return DecisionTree(self.x.iloc[rnd_idxs], self.y[rnd_idxs], min_leaf=self.min_leaf)\n",
    "        \n",
    "    def predict(self, x):\n",
    "        return np.mean([t.predict(x) for t in self.trees], axis=0)"
   ]
  },
  {
   "cell_type": "code",
   "execution_count": 86,
   "metadata": {},
   "outputs": [],
   "source": [
    "class DecisionTree():\n",
    "    def __init__(self, x, y, idxs=None, min_leaf=5):\n",
    "        if idxs is None: idxs=np.arange(len(y))\n",
    "        self.x,self.y,self.idxs,self.min_leaf = x,y,idxs,min_leaf\n",
    "        self.n,self.c = len(idxs), x.shape[1]\n",
    "        self.val = np.mean(y[idxs])\n",
    "        self.score = float('inf')\n",
    "        self.find_varsplit()\n",
    "        \n",
    "    # This just does one decision; we'll make it recursive later\n",
    "    def find_varsplit(self):\n",
    "        for i in range(self.c): self.find_better_split(i)\n",
    "            \n",
    "    # We'll write this later!\n",
    "    def find_better_split(self, var_idx):\n",
    "        x, y= self.x.values[self.idxs, var_idx], self.y[self.idxs]\n",
    "\n",
    "        for i in range(1, self.n-1):\n",
    "            lhs= x<=x[i] #array of booleans\n",
    "            rhs= x>x[i]\n",
    "            if rhs.sum()==0: continue\n",
    "            lhs_std= y[lhs].std()\n",
    "            rhs_std= y[rhs].std()\n",
    "            curr_score= lhs_std*lhs.sum() + rhs_std*rhs.sum()\n",
    "            if curr_score<self.score:\n",
    "                self.var_idx, self.score, self.split= var_idx, curr_score, x[i]\n",
    "\n",
    "    @property\n",
    "    def split_name(self): return self.x.columns[self.var_idx]\n",
    "    \n",
    "    @property\n",
    "    def split_col(self): return self.x.values[self.idxs,self.var_idx]\n",
    "\n",
    "    @property\n",
    "    def is_leaf(self): return self.score == float('inf')\n",
    "    \n",
    "    def __repr__(self):\n",
    "        s = f'n: {self.n}; val:{self.val}'\n",
    "        if not self.is_leaf:\n",
    "            s += f'; score:{self.score}; split:{self.split}; var:{self.split_name}'\n",
    "        return s"
   ]
  },
  {
   "cell_type": "code",
   "execution_count": 87,
   "metadata": {},
   "outputs": [
    {
     "data": {
      "text/plain": [
       "Index(['YearMade', 'MachineHoursCurrentMeter'], dtype='object')"
      ]
     },
     "execution_count": 87,
     "metadata": {},
     "output_type": "execute_result"
    }
   ],
   "source": [
    "ens= TreeEnsemble(x_sub, y_train, 1, 1000)\n",
    "tree= ens.trees[0]\n",
    "x_samp, y_samp= tree.x, tree.y\n",
    "x_samp.columns"
   ]
  },
  {
   "cell_type": "code",
   "execution_count": 88,
   "metadata": {},
   "outputs": [
    {
     "data": {
      "text/plain": [
       "n: 1000; val:10.079014121552744; score:658.5510186055949; split:1974.0; var:YearMade"
      ]
     },
     "execution_count": 88,
     "metadata": {},
     "output_type": "execute_result"
    }
   ],
   "source": [
    "tree"
   ]
  },
  {
   "cell_type": "code",
   "execution_count": 89,
   "metadata": {},
   "outputs": [
    {
     "data": {
      "image/svg+xml": [
       "<?xml version=\"1.0\" encoding=\"UTF-8\" standalone=\"no\"?>\n",
       "<!DOCTYPE svg PUBLIC \"-//W3C//DTD SVG 1.1//EN\"\n",
       " \"http://www.w3.org/Graphics/SVG/1.1/DTD/svg11.dtd\">\n",
       "<!-- Generated by graphviz version 2.40.1 (20161225.0304)\n",
       " -->\n",
       "<!-- Title: Tree Pages: 1 -->\n",
       "<svg width=\"269pt\" height=\"165pt\"\n",
       " viewBox=\"0.00 0.00 269.00 164.60\" xmlns=\"http://www.w3.org/2000/svg\" xmlns:xlink=\"http://www.w3.org/1999/xlink\">\n",
       "<g id=\"graph0\" class=\"graph\" transform=\"scale(1 1) rotate(0) translate(4 160.6)\">\n",
       "<title>Tree</title>\n",
       "<polygon fill=\"#ffffff\" stroke=\"transparent\" points=\"-4,4 -4,-160.6 265,-160.6 265,4 -4,4\"/>\n",
       "<!-- 0 -->\n",
       "<g id=\"node1\" class=\"node\">\n",
       "<title>0</title>\n",
       "<polygon fill=\"#e99558\" stroke=\"#000000\" points=\"128,-111.4669 0,-111.4669 0,-43.4669 128,-43.4669 128,-111.4669\"/>\n",
       "<text text-anchor=\"start\" x=\"8\" y=\"-96.2669\" font-family=\"Times,serif\" font-size=\"14.00\" fill=\"#000000\">YearMade ≤ 1974.5</text>\n",
       "<text text-anchor=\"start\" x=\"32.5\" y=\"-81.2669\" font-family=\"Times,serif\" font-size=\"14.00\" fill=\"#000000\">mse = 0.47</text>\n",
       "<text text-anchor=\"start\" x=\"20\" y=\"-66.2669\" font-family=\"Times,serif\" font-size=\"14.00\" fill=\"#000000\">samples = 1000</text>\n",
       "<text text-anchor=\"start\" x=\"26\" y=\"-51.2669\" font-family=\"Times,serif\" font-size=\"14.00\" fill=\"#000000\">value = 10.08</text>\n",
       "</g>\n",
       "<!-- 1 -->\n",
       "<g id=\"node2\" class=\"node\">\n",
       "<title>1</title>\n",
       "<polygon fill=\"#ffffff\" stroke=\"#000000\" points=\"261.5,-149.9669 164.5,-149.9669 164.5,-96.9669 261.5,-96.9669 261.5,-149.9669\"/>\n",
       "<text text-anchor=\"start\" x=\"181.5\" y=\"-134.7669\" font-family=\"Times,serif\" font-size=\"14.00\" fill=\"#000000\">mse = 0.26</text>\n",
       "<text text-anchor=\"start\" x=\"172.5\" y=\"-119.7669\" font-family=\"Times,serif\" font-size=\"14.00\" fill=\"#000000\">samples = 159</text>\n",
       "<text text-anchor=\"start\" x=\"178\" y=\"-104.7669\" font-family=\"Times,serif\" font-size=\"14.00\" fill=\"#000000\">value = 9.66</text>\n",
       "</g>\n",
       "<!-- 0&#45;&gt;1 -->\n",
       "<g id=\"edge1\" class=\"edge\">\n",
       "<title>0&#45;&gt;1</title>\n",
       "<path fill=\"none\" stroke=\"#000000\" d=\"M128.0541,-97.242C136.8795,-99.9667 145.9044,-102.7529 154.6202,-105.4436\"/>\n",
       "<polygon fill=\"#000000\" stroke=\"#000000\" points=\"153.7146,-108.827 164.3021,-108.4327 155.7795,-102.1385 153.7146,-108.827\"/>\n",
       "<text text-anchor=\"middle\" x=\"146.6175\" y=\"-114.0738\" font-family=\"Times,serif\" font-size=\"14.00\" fill=\"#000000\">True</text>\n",
       "</g>\n",
       "<!-- 2 -->\n",
       "<g id=\"node3\" class=\"node\">\n",
       "<title>2</title>\n",
       "<polygon fill=\"#e58139\" stroke=\"#000000\" points=\"261.5,-59.9669 164.5,-59.9669 164.5,-6.9669 261.5,-6.9669 261.5,-59.9669\"/>\n",
       "<text text-anchor=\"start\" x=\"181.5\" y=\"-44.7669\" font-family=\"Times,serif\" font-size=\"14.00\" fill=\"#000000\">mse = 0.47</text>\n",
       "<text text-anchor=\"start\" x=\"172.5\" y=\"-29.7669\" font-family=\"Times,serif\" font-size=\"14.00\" fill=\"#000000\">samples = 841</text>\n",
       "<text text-anchor=\"start\" x=\"175\" y=\"-14.7669\" font-family=\"Times,serif\" font-size=\"14.00\" fill=\"#000000\">value = 10.16</text>\n",
       "</g>\n",
       "<!-- 0&#45;&gt;2 -->\n",
       "<g id=\"edge2\" class=\"edge\">\n",
       "<title>0&#45;&gt;2</title>\n",
       "<path fill=\"none\" stroke=\"#000000\" d=\"M128.0541,-58.5516C136.8795,-55.9455 145.9044,-53.2804 154.6202,-50.7066\"/>\n",
       "<polygon fill=\"#000000\" stroke=\"#000000\" points=\"155.7027,-54.0364 164.3021,-47.8475 153.7202,-47.323 155.7027,-54.0364\"/>\n",
       "<text text-anchor=\"middle\" x=\"146.7337\" y=\"-34.5896\" font-family=\"Times,serif\" font-size=\"14.00\" fill=\"#000000\">False</text>\n",
       "</g>\n",
       "</g>\n",
       "</svg>\n"
      ],
      "text/plain": [
       "<graphviz.files.Source at 0x7fdc15c394d0>"
      ]
     },
     "metadata": {},
     "output_type": "display_data"
    }
   ],
   "source": [
    "m= RandomForestRegressor(n_estimators=1, max_depth=1, bootstrap=False)\n",
    "m.fit(x_samp, y_samp)\n",
    "draw_tree(m.estimators_[0], x_samp, precision=2)"
   ]
  },
  {
   "cell_type": "code",
   "execution_count": 90,
   "metadata": {},
   "outputs": [
    {
     "name": "stdout",
     "output_type": "stream",
     "text": [
      "1.65 ms ± 30 µs per loop (mean ± std. dev. of 7 runs, 1000 loops each)\n"
     ]
    },
    {
     "data": {
      "text/plain": [
       "n: 1000; val:10.079014121552744; score:658.5510186055949; split:1974.0; var:YearMade"
      ]
     },
     "execution_count": 90,
     "metadata": {},
     "output_type": "execute_result"
    }
   ],
   "source": [
    "%timeit find_better_split(tree, 1)\n",
    "tree"
   ]
  },
  {
   "cell_type": "code",
   "execution_count": 91,
   "metadata": {},
   "outputs": [
    {
     "data": {
      "text/plain": [
       "n: 1000; val:10.079014121552744; score:658.5510186055565; split:1974.0; var:YearMade"
      ]
     },
     "execution_count": 91,
     "metadata": {},
     "output_type": "execute_result"
    }
   ],
   "source": [
    "find_better_split(tree, 0); tree"
   ]
  },
  {
   "cell_type": "markdown",
   "metadata": {},
   "source": [
    "Speeding things up"
   ]
  },
  {
   "cell_type": "code",
   "execution_count": 92,
   "metadata": {},
   "outputs": [],
   "source": [
    "tree= TreeEnsemble(x_sub, y_train, 1, 1000).trees[0]"
   ]
  },
  {
   "cell_type": "code",
   "execution_count": 93,
   "metadata": {},
   "outputs": [],
   "source": [
    "\n",
    "\n",
    "def std_agg(cnt, s1, s2): return math.sqrt((s2/cnt) - (s1/cnt)**2)\n",
    "\n",
    "def find_better_split(self, var_idx):\n",
    "    x,y = self.x.values[self.idxs,var_idx], self.y[self.idxs]\n",
    "    \n",
    "    sort_idx = np.argsort(x)\n",
    "    sort_y,sort_x = y[sort_idx], x[sort_idx]\n",
    "    rhs_cnt,rhs_sum,rhs_sum2 = self.n, sort_y.sum(), (sort_y**2).sum()\n",
    "    lhs_cnt,lhs_sum,lhs_sum2 = 0,0.,0.\n",
    "\n",
    "    for i in range(0,self.n-self.min_leaf):\n",
    "        xi,yi = sort_x[i],sort_y[i]\n",
    "        lhs_cnt += 1; rhs_cnt -= 1\n",
    "        lhs_sum += yi; rhs_sum -= yi\n",
    "        lhs_sum2 += yi**2; rhs_sum2 -= yi**2\n",
    "        if i<self.min_leaf-1 or xi==sort_x[i+1]:\n",
    "            continue\n",
    "            \n",
    "        lhs_std = std_agg(lhs_cnt, lhs_sum, lhs_sum2)\n",
    "        rhs_std = std_agg(rhs_cnt, rhs_sum, rhs_sum2)\n",
    "        curr_score = lhs_std*lhs_cnt + rhs_std*rhs_cnt\n",
    "        if curr_score<self.score: \n",
    "            self.var_idx,self.score,self.split = var_idx,curr_score,xi\n",
    "\n"
   ]
  },
  {
   "cell_type": "code",
   "execution_count": 94,
   "metadata": {},
   "outputs": [
    {
     "name": "stdout",
     "output_type": "stream",
     "text": [
      "1.64 ms ± 25.3 µs per loop (mean ± std. dev. of 7 runs, 1000 loops each)\n"
     ]
    },
    {
     "data": {
      "text/plain": [
       "n: 1000; val:10.079014121552744; score:658.5510186055949; split:1974.0; var:YearMade"
      ]
     },
     "execution_count": 94,
     "metadata": {},
     "output_type": "execute_result"
    }
   ],
   "source": [
    "%timeit find_better_split(tree, 1)\n",
    "tree"
   ]
  },
  {
   "cell_type": "code",
   "execution_count": 95,
   "metadata": {},
   "outputs": [
    {
     "data": {
      "text/plain": [
       "n: 1000; val:10.079014121552744; score:658.5510186055565; split:1974.0; var:YearMade"
      ]
     },
     "execution_count": 95,
     "metadata": {},
     "output_type": "execute_result"
    }
   ],
   "source": [
    "find_better_split(tree,0); tree"
   ]
  },
  {
   "cell_type": "code",
   "execution_count": 96,
   "metadata": {},
   "outputs": [],
   "source": [
    "DecisionTree.find_better_split= find_better_split"
   ]
  },
  {
   "cell_type": "code",
   "execution_count": 97,
   "metadata": {},
   "outputs": [
    {
     "data": {
      "text/plain": [
       "n: 1000; val:10.079014121552744; score:658.5510186055565; split:1974.0; var:YearMade"
      ]
     },
     "execution_count": 97,
     "metadata": {},
     "output_type": "execute_result"
    }
   ],
   "source": [
    "tree= TreeEnsemble(x_sub, y_train, 1, 1000).trees[0]; tree"
   ]
  },
  {
   "cell_type": "markdown",
   "metadata": {},
   "source": [
    "Full single tree"
   ]
  },
  {
   "cell_type": "code",
   "execution_count": 99,
   "metadata": {},
   "outputs": [
    {
     "data": {
      "image/svg+xml": [
       "<?xml version=\"1.0\" encoding=\"UTF-8\" standalone=\"no\"?>\n",
       "<!DOCTYPE svg PUBLIC \"-//W3C//DTD SVG 1.1//EN\"\n",
       " \"http://www.w3.org/Graphics/SVG/1.1/DTD/svg11.dtd\">\n",
       "<!-- Generated by graphviz version 2.40.1 (20161225.0304)\n",
       " -->\n",
       "<!-- Title: Tree Pages: 1 -->\n",
       "<svg width=\"530pt\" height=\"321pt\"\n",
       " viewBox=\"0.00 0.00 530.00 321.20\" xmlns=\"http://www.w3.org/2000/svg\" xmlns:xlink=\"http://www.w3.org/1999/xlink\">\n",
       "<g id=\"graph0\" class=\"graph\" transform=\"scale(1 1) rotate(0) translate(4 317.2)\">\n",
       "<title>Tree</title>\n",
       "<polygon fill=\"#ffffff\" stroke=\"transparent\" points=\"-4,4 -4,-317.2 526,-317.2 526,4 -4,4\"/>\n",
       "<!-- 0 -->\n",
       "<g id=\"node1\" class=\"node\">\n",
       "<title>0</title>\n",
       "<polygon fill=\"#f4c8a8\" stroke=\"#000000\" points=\"128,-192.74 0,-192.74 0,-124.74 128,-124.74 128,-192.74\"/>\n",
       "<text text-anchor=\"start\" x=\"8\" y=\"-177.54\" font-family=\"Times,serif\" font-size=\"14.00\" fill=\"#000000\">YearMade ≤ 1974.5</text>\n",
       "<text text-anchor=\"start\" x=\"32.5\" y=\"-162.54\" font-family=\"Times,serif\" font-size=\"14.00\" fill=\"#000000\">mse = 0.47</text>\n",
       "<text text-anchor=\"start\" x=\"20\" y=\"-147.54\" font-family=\"Times,serif\" font-size=\"14.00\" fill=\"#000000\">samples = 1000</text>\n",
       "<text text-anchor=\"start\" x=\"26\" y=\"-132.54\" font-family=\"Times,serif\" font-size=\"14.00\" fill=\"#000000\">value = 10.08</text>\n",
       "</g>\n",
       "<!-- 1 -->\n",
       "<g id=\"node2\" class=\"node\">\n",
       "<title>1</title>\n",
       "<polygon fill=\"#fefaf7\" stroke=\"#000000\" points=\"388.5,-241.74 163.5,-241.74 163.5,-173.74 388.5,-173.74 388.5,-241.74\"/>\n",
       "<text text-anchor=\"start\" x=\"171.5\" y=\"-226.54\" font-family=\"Times,serif\" font-size=\"14.00\" fill=\"#000000\">MachineHoursCurrentMeter ≤ 2956.5</text>\n",
       "<text text-anchor=\"start\" x=\"244.5\" y=\"-211.54\" font-family=\"Times,serif\" font-size=\"14.00\" fill=\"#000000\">mse = 0.26</text>\n",
       "<text text-anchor=\"start\" x=\"235.5\" y=\"-196.54\" font-family=\"Times,serif\" font-size=\"14.00\" fill=\"#000000\">samples = 159</text>\n",
       "<text text-anchor=\"start\" x=\"241\" y=\"-181.54\" font-family=\"Times,serif\" font-size=\"14.00\" fill=\"#000000\">value = 9.66</text>\n",
       "</g>\n",
       "<!-- 0&#45;&gt;1 -->\n",
       "<g id=\"edge1\" class=\"edge\">\n",
       "<title>0&#45;&gt;1</title>\n",
       "<path fill=\"none\" stroke=\"#000000\" d=\"M128.1823,-173.5746C136.3285,-175.4574 144.8671,-177.431 153.5569,-179.4395\"/>\n",
       "<polygon fill=\"#000000\" stroke=\"#000000\" points=\"152.8879,-182.877 163.4192,-181.719 154.4643,-176.0568 152.8879,-182.877\"/>\n",
       "<text text-anchor=\"middle\" x=\"146.4556\" y=\"-188.6131\" font-family=\"Times,serif\" font-size=\"14.00\" fill=\"#000000\">True</text>\n",
       "</g>\n",
       "<!-- 4 -->\n",
       "<g id=\"node5\" class=\"node\">\n",
       "<title>4</title>\n",
       "<polygon fill=\"#f2be99\" stroke=\"#000000\" points=\"340,-142.74 212,-142.74 212,-74.74 340,-74.74 340,-142.74\"/>\n",
       "<text text-anchor=\"start\" x=\"220\" y=\"-127.54\" font-family=\"Times,serif\" font-size=\"14.00\" fill=\"#000000\">YearMade ≤ 2005.5</text>\n",
       "<text text-anchor=\"start\" x=\"244.5\" y=\"-112.54\" font-family=\"Times,serif\" font-size=\"14.00\" fill=\"#000000\">mse = 0.47</text>\n",
       "<text text-anchor=\"start\" x=\"235.5\" y=\"-97.54\" font-family=\"Times,serif\" font-size=\"14.00\" fill=\"#000000\">samples = 841</text>\n",
       "<text text-anchor=\"start\" x=\"238\" y=\"-82.54\" font-family=\"Times,serif\" font-size=\"14.00\" fill=\"#000000\">value = 10.16</text>\n",
       "</g>\n",
       "<!-- 0&#45;&gt;4 -->\n",
       "<g id=\"edge4\" class=\"edge\">\n",
       "<title>0&#45;&gt;4</title>\n",
       "<path fill=\"none\" stroke=\"#000000\" d=\"M128.1823,-143.6027C151.4255,-138.1208 177.8635,-131.8854 201.8909,-126.2186\"/>\n",
       "<polygon fill=\"#000000\" stroke=\"#000000\" points=\"202.7408,-129.6142 211.6703,-123.9121 201.1339,-122.8012 202.7408,-129.6142\"/>\n",
       "<text text-anchor=\"middle\" x=\"194.6594\" y=\"-109.694\" font-family=\"Times,serif\" font-size=\"14.00\" fill=\"#000000\">False</text>\n",
       "</g>\n",
       "<!-- 2 -->\n",
       "<g id=\"node3\" class=\"node\">\n",
       "<title>2</title>\n",
       "<polygon fill=\"#ffffff\" stroke=\"#000000\" points=\"522.5,-309.24 425.5,-309.24 425.5,-256.24 522.5,-256.24 522.5,-309.24\"/>\n",
       "<text text-anchor=\"start\" x=\"442.5\" y=\"-294.04\" font-family=\"Times,serif\" font-size=\"14.00\" fill=\"#000000\">mse = 0.23</text>\n",
       "<text text-anchor=\"start\" x=\"433.5\" y=\"-279.04\" font-family=\"Times,serif\" font-size=\"14.00\" fill=\"#000000\">samples = 150</text>\n",
       "<text text-anchor=\"start\" x=\"439\" y=\"-264.04\" font-family=\"Times,serif\" font-size=\"14.00\" fill=\"#000000\">value = 9.62</text>\n",
       "</g>\n",
       "<!-- 1&#45;&gt;2 -->\n",
       "<g id=\"edge2\" class=\"edge\">\n",
       "<title>1&#45;&gt;2</title>\n",
       "<path fill=\"none\" stroke=\"#000000\" d=\"M366.0198,-241.8384C382.9396,-248.2474 400.2122,-254.7901 415.8387,-260.7092\"/>\n",
       "<polygon fill=\"#000000\" stroke=\"#000000\" points=\"414.7465,-264.0381 425.3379,-264.3074 417.2261,-257.492 414.7465,-264.0381\"/>\n",
       "</g>\n",
       "<!-- 3 -->\n",
       "<g id=\"node4\" class=\"node\">\n",
       "<title>3</title>\n",
       "<polygon fill=\"#eda774\" stroke=\"#000000\" points=\"520,-226.24 428,-226.24 428,-173.24 520,-173.24 520,-226.24\"/>\n",
       "<text text-anchor=\"start\" x=\"442.5\" y=\"-211.04\" font-family=\"Times,serif\" font-size=\"14.00\" fill=\"#000000\">mse = 0.23</text>\n",
       "<text text-anchor=\"start\" x=\"440.5\" y=\"-196.04\" font-family=\"Times,serif\" font-size=\"14.00\" fill=\"#000000\">samples = 9</text>\n",
       "<text text-anchor=\"start\" x=\"436\" y=\"-181.04\" font-family=\"Times,serif\" font-size=\"14.00\" fill=\"#000000\">value = 10.35</text>\n",
       "</g>\n",
       "<!-- 1&#45;&gt;3 -->\n",
       "<g id=\"edge3\" class=\"edge\">\n",
       "<title>1&#45;&gt;3</title>\n",
       "<path fill=\"none\" stroke=\"#000000\" d=\"M388.5935,-203.1908C398.5883,-202.7869 408.3947,-202.3907 417.5947,-202.019\"/>\n",
       "<polygon fill=\"#000000\" stroke=\"#000000\" points=\"417.8513,-205.5116 427.7018,-201.6106 417.5686,-198.5173 417.8513,-205.5116\"/>\n",
       "</g>\n",
       "<!-- 5 -->\n",
       "<g id=\"node6\" class=\"node\">\n",
       "<title>5</title>\n",
       "<polygon fill=\"#f2c09d\" stroke=\"#000000\" points=\"522.5,-139.24 425.5,-139.24 425.5,-86.24 522.5,-86.24 522.5,-139.24\"/>\n",
       "<text text-anchor=\"start\" x=\"442.5\" y=\"-124.04\" font-family=\"Times,serif\" font-size=\"14.00\" fill=\"#000000\">mse = 0.46</text>\n",
       "<text text-anchor=\"start\" x=\"433.5\" y=\"-109.04\" font-family=\"Times,serif\" font-size=\"14.00\" fill=\"#000000\">samples = 813</text>\n",
       "<text text-anchor=\"start\" x=\"436\" y=\"-94.04\" font-family=\"Times,serif\" font-size=\"14.00\" fill=\"#000000\">value = 10.14</text>\n",
       "</g>\n",
       "<!-- 4&#45;&gt;5 -->\n",
       "<g id=\"edge5\" class=\"edge\">\n",
       "<title>4&#45;&gt;5</title>\n",
       "<path fill=\"none\" stroke=\"#000000\" d=\"M340.0115,-110.0332C364.1246,-110.5203 391.4158,-111.0716 415.0461,-111.549\"/>\n",
       "<polygon fill=\"#000000\" stroke=\"#000000\" points=\"415.2053,-115.0528 425.274,-111.7556 415.3467,-108.0543 415.2053,-115.0528\"/>\n",
       "</g>\n",
       "<!-- 6 -->\n",
       "<g id=\"node7\" class=\"node\">\n",
       "<title>6</title>\n",
       "<polygon fill=\"#e58139\" stroke=\"#000000\" points=\"520,-57.24 428,-57.24 428,-4.24 520,-4.24 520,-57.24\"/>\n",
       "<text text-anchor=\"start\" x=\"442.5\" y=\"-42.04\" font-family=\"Times,serif\" font-size=\"14.00\" fill=\"#000000\">mse = 0.38</text>\n",
       "<text text-anchor=\"start\" x=\"437\" y=\"-27.04\" font-family=\"Times,serif\" font-size=\"14.00\" fill=\"#000000\">samples = 28</text>\n",
       "<text text-anchor=\"start\" x=\"436\" y=\"-12.04\" font-family=\"Times,serif\" font-size=\"14.00\" fill=\"#000000\">value = 10.67</text>\n",
       "</g>\n",
       "<!-- 4&#45;&gt;6 -->\n",
       "<g id=\"edge6\" class=\"edge\">\n",
       "<title>4&#45;&gt;6</title>\n",
       "<path fill=\"none\" stroke=\"#000000\" d=\"M340.0115,-83.5234C365.247,-73.5821 393.9633,-62.2696 418.3212,-52.6741\"/>\n",
       "<polygon fill=\"#000000\" stroke=\"#000000\" points=\"419.7513,-55.8725 427.7726,-48.9508 417.1856,-49.3597 419.7513,-55.8725\"/>\n",
       "</g>\n",
       "</g>\n",
       "</svg>\n"
      ],
      "text/plain": [
       "<graphviz.files.Source at 0x7fdc14700250>"
      ]
     },
     "metadata": {},
     "output_type": "display_data"
    }
   ],
   "source": [
    "m= RandomForestRegressor(n_estimators=1, max_depth=2, bootstrap=False)\n",
    "m.fit(x_samp, y_samp)\n",
    "draw_tree(m.estimators_[0], x_samp, precision=2)"
   ]
  },
  {
   "cell_type": "code",
   "execution_count": 100,
   "metadata": {},
   "outputs": [],
   "source": [
    "def find_varsplit(self):\n",
    "    for i in range(self.c): self.find_better_split(i)\n",
    "    if self.is_leaf: return\n",
    "    x=self.split_col\n",
    "    lhs= np.nonzero(x<=self.split)[0]\n",
    "    rhs= np.nonzero(x>self.split)[0]\n",
    "    self.lhs= DecisionTree(self.x, self.y, self.idxs[lhs])\n",
    "    self.rhs= DecisionTree(self.x, self.y, self.idxs[rhs])"
   ]
  },
  {
   "cell_type": "code",
   "execution_count": 101,
   "metadata": {},
   "outputs": [],
   "source": [
    "DecisionTree.find_varsplit= find_varsplit"
   ]
  },
  {
   "cell_type": "code",
   "execution_count": 102,
   "metadata": {},
   "outputs": [
    {
     "data": {
      "text/plain": [
       "n: 1000; val:10.079014121552744; score:658.5510186055565; split:1974.0; var:YearMade"
      ]
     },
     "execution_count": 102,
     "metadata": {},
     "output_type": "execute_result"
    }
   ],
   "source": [
    "tree= TreeEnsemble(x_sub, y_train, 1, 1000).trees[0]; tree"
   ]
  },
  {
   "cell_type": "code",
   "execution_count": 103,
   "metadata": {},
   "outputs": [
    {
     "data": {
      "text/plain": [
       "n: 159; val:9.660892662981706; score:76.82696888346362; split:2800.0; var:MachineHoursCurrentMeter"
      ]
     },
     "execution_count": 103,
     "metadata": {},
     "output_type": "execute_result"
    }
   ],
   "source": [
    "tree.lhs"
   ]
  },
  {
   "cell_type": "code",
   "execution_count": 104,
   "metadata": {},
   "outputs": [
    {
     "data": {
      "text/plain": [
       "n: 841; val:10.158064432982941; score:571.4803525045031; split:2005.0; var:YearMade"
      ]
     },
     "execution_count": 104,
     "metadata": {},
     "output_type": "execute_result"
    }
   ],
   "source": [
    "tree.rhs"
   ]
  },
  {
   "cell_type": "code",
   "execution_count": 105,
   "metadata": {},
   "outputs": [
    {
     "data": {
      "text/plain": [
       "n: 150; val:9.619280538108496; score:71.15906938383463; split:1000.0; var:YearMade"
      ]
     },
     "execution_count": 105,
     "metadata": {},
     "output_type": "execute_result"
    }
   ],
   "source": [
    "tree.lhs.lhs"
   ]
  },
  {
   "cell_type": "code",
   "execution_count": 107,
   "metadata": {},
   "outputs": [
    {
     "data": {
      "text/plain": [
       "n: 9; val:10.354428077535193"
      ]
     },
     "execution_count": 107,
     "metadata": {},
     "output_type": "execute_result"
    }
   ],
   "source": [
    "tree.lhs.rhs"
   ]
  },
  {
   "cell_type": "code",
   "execution_count": null,
   "metadata": {},
   "outputs": [],
   "source": []
  }
 ],
 "metadata": {
  "kernelspec": {
   "display_name": "Python 3",
   "language": "python",
   "name": "python3"
  },
  "language_info": {
   "codemirror_mode": {
    "name": "ipython",
    "version": 3
   },
   "file_extension": ".py",
   "mimetype": "text/x-python",
   "name": "python",
   "nbconvert_exporter": "python",
   "pygments_lexer": "ipython3",
   "version": "3.7.6"
  }
 },
 "nbformat": 4,
 "nbformat_minor": 4
}
