{
 "cells": [
  {
   "cell_type": "code",
   "execution_count": 16,
   "metadata": {},
   "outputs": [],
   "source": [
    "#importing libraries\n",
    "import pandas as pd\n",
    "import numpy as np\n",
    "import matplotlib.pyplot as plt"
   ]
  },
  {
   "cell_type": "markdown",
   "metadata": {},
   "source": [
    "Data Preprocessing"
   ]
  },
  {
   "cell_type": "code",
   "execution_count": 17,
   "metadata": {},
   "outputs": [],
   "source": [
    "dataset=pd.read_csv('Churn_Modelling.csv')\n",
    "x=dataset.iloc[:, 3:13].values\n",
    "y=dataset.iloc[:, 13].values"
   ]
  },
  {
   "cell_type": "code",
   "execution_count": 18,
   "metadata": {},
   "outputs": [
    {
     "name": "stderr",
     "output_type": "stream",
     "text": [
      "/home/ricco/anaconda3/lib/python3.7/site-packages/sklearn/preprocessing/_encoders.py:415: FutureWarning: The handling of integer data will change in version 0.22. Currently, the categories are determined based on the range [0, max(values)], while in the future they will be determined based on the unique values.\n",
      "If you want the future behaviour and silence this warning, you can specify \"categories='auto'\".\n",
      "In case you used a LabelEncoder before this OneHotEncoder to convert the categories to integers, then you can now use the OneHotEncoder directly.\n",
      "  warnings.warn(msg, FutureWarning)\n",
      "/home/ricco/anaconda3/lib/python3.7/site-packages/sklearn/preprocessing/_encoders.py:451: DeprecationWarning: The 'categorical_features' keyword is deprecated in version 0.20 and will be removed in 0.22. You can use the ColumnTransformer instead.\n",
      "  \"use the ColumnTransformer instead.\", DeprecationWarning)\n"
     ]
    }
   ],
   "source": [
    "#encoding the categorical data\n",
    "#the categorical variables are country and gender\n",
    "from sklearn.preprocessing import LabelEncoder, OneHotEncoder\n",
    "labelencoder_x1= LabelEncoder()\n",
    "x[:, 1]= labelencoder_x1.fit_transform(x[:, 1])\n",
    "labelencoder_x2= LabelEncoder()\n",
    "x[:, 2]= labelencoder_x2.fit_transform(x[:, 2])\n",
    "onehotencoder= OneHotEncoder(categorical_features= [1])\n",
    "x=onehotencoder.fit_transform(x).toarray()\n",
    "x=x[:, 1:]"
   ]
  },
  {
   "cell_type": "code",
   "execution_count": 19,
   "metadata": {},
   "outputs": [],
   "source": [
    "#splitting the dataset into the training set and test set\n",
    "from sklearn.model_selection import train_test_split\n",
    "x_train, x_test, y_train, y_test= train_test_split(x, y, test_size=0.2, random_state=42)"
   ]
  },
  {
   "cell_type": "code",
   "execution_count": 20,
   "metadata": {},
   "outputs": [],
   "source": [
    "#feature scaling\n",
    "from sklearn.preprocessing import StandardScaler  #mean 0, std 1\n",
    "sc= StandardScaler()\n",
    "x_train=sc.fit_transform(x_train)\n",
    "x_test=sc.transform(x_test)"
   ]
  },
  {
   "cell_type": "markdown",
   "metadata": {},
   "source": [
    "Building the ANN"
   ]
  },
  {
   "cell_type": "code",
   "execution_count": 21,
   "metadata": {},
   "outputs": [],
   "source": [
    "import keras\n",
    "from keras.models import Sequential #to initialize our ANN\n",
    "from keras.layers import Dense #to create the layers of our ANN"
   ]
  },
  {
   "cell_type": "code",
   "execution_count": 22,
   "metadata": {},
   "outputs": [
    {
     "name": "stderr",
     "output_type": "stream",
     "text": [
      "/home/ricco/anaconda3/lib/python3.7/site-packages/ipykernel_launcher.py:4: UserWarning: Update your `Dense` call to the Keras 2 API: `Dense(activation=\"relu\", input_dim=11, units=6, kernel_initializer=\"uniform\")`\n",
      "  after removing the cwd from sys.path.\n",
      "/home/ricco/anaconda3/lib/python3.7/site-packages/ipykernel_launcher.py:6: UserWarning: Update your `Dense` call to the Keras 2 API: `Dense(activation=\"relu\", units=6, kernel_initializer=\"uniform\")`\n",
      "  \n",
      "/home/ricco/anaconda3/lib/python3.7/site-packages/ipykernel_launcher.py:8: UserWarning: Update your `Dense` call to the Keras 2 API: `Dense(activation=\"sigmoid\", units=1, kernel_initializer=\"uniform\")`\n",
      "  \n"
     ]
    }
   ],
   "source": [
    "#Initializing the ANN\n",
    "classifier = Sequential()\n",
    "#adding the input layer and the first hidden layer\n",
    "classifier.add(Dense(output_dim=6, init= 'uniform', activation= 'relu', input_dim= 11))\n",
    "#adding the second hidden layer\n",
    "classifier.add(Dense(output_dim=6, init= 'uniform', activation= 'relu'))\n",
    "#adding the output layer\n",
    "classifier.add(Dense(output_dim=1, init= 'uniform', activation= 'sigmoid'))\n"
   ]
  },
  {
   "cell_type": "code",
   "execution_count": 23,
   "metadata": {},
   "outputs": [],
   "source": [
    "#compiling the ANN (applying stochastic descent on the whole artificial neural network)\n",
    "classifier.compile(optimizer= 'adam', loss= 'binary_crossentropy', metrics= ['accuracy'])"
   ]
  },
  {
   "cell_type": "code",
   "execution_count": 24,
   "metadata": {},
   "outputs": [
    {
     "name": "stderr",
     "output_type": "stream",
     "text": [
      "/home/ricco/anaconda3/lib/python3.7/site-packages/ipykernel_launcher.py:2: UserWarning: The `nb_epoch` argument in `fit` has been renamed `epochs`.\n",
      "  \n"
     ]
    },
    {
     "name": "stdout",
     "output_type": "stream",
     "text": [
      "Epoch 1/100\n",
      "8000/8000 [==============================] - 2s 232us/step - loss: 0.4854 - accuracy: 0.7941\n",
      "Epoch 2/100\n",
      "8000/8000 [==============================] - 2s 209us/step - loss: 0.4295 - accuracy: 0.7945\n",
      "Epoch 3/100\n",
      "8000/8000 [==============================] - 2s 192us/step - loss: 0.4224 - accuracy: 0.8064\n",
      "Epoch 4/100\n",
      "8000/8000 [==============================] - 2s 243us/step - loss: 0.4193 - accuracy: 0.8257\n",
      "Epoch 5/100\n",
      "8000/8000 [==============================] - 2s 230us/step - loss: 0.4168 - accuracy: 0.8298\n",
      "Epoch 6/100\n",
      "8000/8000 [==============================] - 2s 259us/step - loss: 0.4150 - accuracy: 0.8295\n",
      "Epoch 7/100\n",
      "8000/8000 [==============================] - 2s 310us/step - loss: 0.4134 - accuracy: 0.8330\n",
      "Epoch 8/100\n",
      "8000/8000 [==============================] - 2s 213us/step - loss: 0.4118 - accuracy: 0.8305\n",
      "Epoch 9/100\n",
      "8000/8000 [==============================] - 2s 205us/step - loss: 0.4109 - accuracy: 0.8330\n",
      "Epoch 10/100\n",
      "8000/8000 [==============================] - 2s 240us/step - loss: 0.4100 - accuracy: 0.8334\n",
      "Epoch 11/100\n",
      "8000/8000 [==============================] - 2s 215us/step - loss: 0.4090 - accuracy: 0.8331\n",
      "Epoch 12/100\n",
      "8000/8000 [==============================] - 2s 262us/step - loss: 0.4085 - accuracy: 0.8331\n",
      "Epoch 13/100\n",
      "8000/8000 [==============================] - 2s 212us/step - loss: 0.4076 - accuracy: 0.8351\n",
      "Epoch 14/100\n",
      "8000/8000 [==============================] - 2s 222us/step - loss: 0.4071 - accuracy: 0.8342\n",
      "Epoch 15/100\n",
      "8000/8000 [==============================] - 2s 223us/step - loss: 0.4068 - accuracy: 0.8345\n",
      "Epoch 16/100\n",
      "8000/8000 [==============================] - 2s 229us/step - loss: 0.4068 - accuracy: 0.8326\n",
      "Epoch 17/100\n",
      "8000/8000 [==============================] - 2s 222us/step - loss: 0.4060 - accuracy: 0.8341\n",
      "Epoch 18/100\n",
      "8000/8000 [==============================] - 2s 194us/step - loss: 0.4059 - accuracy: 0.8334\n",
      "Epoch 19/100\n",
      "8000/8000 [==============================] - 2s 194us/step - loss: 0.4057 - accuracy: 0.8339\n",
      "Epoch 20/100\n",
      "8000/8000 [==============================] - 2s 209us/step - loss: 0.4054 - accuracy: 0.8346\n",
      "Epoch 21/100\n",
      "8000/8000 [==============================] - 2s 205us/step - loss: 0.4050 - accuracy: 0.8365\n",
      "Epoch 22/100\n",
      "8000/8000 [==============================] - 2s 201us/step - loss: 0.4047 - accuracy: 0.8356\n",
      "Epoch 23/100\n",
      "8000/8000 [==============================] - 2s 215us/step - loss: 0.4045 - accuracy: 0.8351\n",
      "Epoch 24/100\n",
      "8000/8000 [==============================] - 2s 188us/step - loss: 0.4045 - accuracy: 0.8350\n",
      "Epoch 25/100\n",
      "8000/8000 [==============================] - 2s 197us/step - loss: 0.4043 - accuracy: 0.8351\n",
      "Epoch 26/100\n",
      "8000/8000 [==============================] - 2s 201us/step - loss: 0.4045 - accuracy: 0.8334\n",
      "Epoch 27/100\n",
      "8000/8000 [==============================] - 2s 213us/step - loss: 0.4042 - accuracy: 0.8364\n",
      "Epoch 28/100\n",
      "8000/8000 [==============================] - 2s 240us/step - loss: 0.4044 - accuracy: 0.8342\n",
      "Epoch 29/100\n",
      "8000/8000 [==============================] - 2s 236us/step - loss: 0.4047 - accuracy: 0.8357\n",
      "Epoch 30/100\n",
      "8000/8000 [==============================] - 2s 216us/step - loss: 0.4040 - accuracy: 0.8346\n",
      "Epoch 31/100\n",
      "8000/8000 [==============================] - 2s 213us/step - loss: 0.4038 - accuracy: 0.8344\n",
      "Epoch 32/100\n",
      "8000/8000 [==============================] - 2s 245us/step - loss: 0.4036 - accuracy: 0.8363\n",
      "Epoch 33/100\n",
      "8000/8000 [==============================] - 2s 221us/step - loss: 0.4035 - accuracy: 0.8366\n",
      "Epoch 34/100\n",
      "8000/8000 [==============================] - 2s 226us/step - loss: 0.4031 - accuracy: 0.8355\n",
      "Epoch 35/100\n",
      "8000/8000 [==============================] - 2s 213us/step - loss: 0.4039 - accuracy: 0.8354\n",
      "Epoch 36/100\n",
      "8000/8000 [==============================] - 2s 222us/step - loss: 0.4033 - accuracy: 0.8366\n",
      "Epoch 37/100\n",
      "8000/8000 [==============================] - 2s 210us/step - loss: 0.4033 - accuracy: 0.8369\n",
      "Epoch 38/100\n",
      "8000/8000 [==============================] - 2s 200us/step - loss: 0.4028 - accuracy: 0.8351\n",
      "Epoch 39/100\n",
      "8000/8000 [==============================] - 2s 205us/step - loss: 0.4031 - accuracy: 0.8334\n",
      "Epoch 40/100\n",
      "8000/8000 [==============================] - 2s 221us/step - loss: 0.4029 - accuracy: 0.8351\n",
      "Epoch 41/100\n",
      "8000/8000 [==============================] - 2s 243us/step - loss: 0.4027 - accuracy: 0.8363\n",
      "Epoch 42/100\n",
      "8000/8000 [==============================] - 2s 280us/step - loss: 0.4027 - accuracy: 0.8359\n",
      "Epoch 43/100\n",
      "8000/8000 [==============================] - 2s 290us/step - loss: 0.4020 - accuracy: 0.8380\n",
      "Epoch 44/100\n",
      "8000/8000 [==============================] - 3s 381us/step - loss: 0.4019 - accuracy: 0.8353\n",
      "Epoch 45/100\n",
      "8000/8000 [==============================] - 2s 282us/step - loss: 0.4015 - accuracy: 0.8364\n",
      "Epoch 46/100\n",
      "8000/8000 [==============================] - 3s 340us/step - loss: 0.4011 - accuracy: 0.8369\n",
      "Epoch 47/100\n",
      "8000/8000 [==============================] - 3s 353us/step - loss: 0.4008 - accuracy: 0.8355\n",
      "Epoch 48/100\n",
      "8000/8000 [==============================] - 2s 277us/step - loss: 0.4000 - accuracy: 0.8364\n",
      "Epoch 49/100\n",
      "8000/8000 [==============================] - 2s 269us/step - loss: 0.4004 - accuracy: 0.8385\n",
      "Epoch 50/100\n",
      "8000/8000 [==============================] - 3s 335us/step - loss: 0.3989 - accuracy: 0.8361\n",
      "Epoch 51/100\n",
      "8000/8000 [==============================] - 3s 339us/step - loss: 0.3993 - accuracy: 0.8374\n",
      "Epoch 52/100\n",
      "8000/8000 [==============================] - 3s 336us/step - loss: 0.3990 - accuracy: 0.8371\n",
      "Epoch 53/100\n",
      "8000/8000 [==============================] - 3s 320us/step - loss: 0.3988 - accuracy: 0.8375\n",
      "Epoch 54/100\n",
      "8000/8000 [==============================] - 2s 281us/step - loss: 0.3982 - accuracy: 0.8364\n",
      "Epoch 55/100\n",
      "8000/8000 [==============================] - 3s 320us/step - loss: 0.3985 - accuracy: 0.8372\n",
      "Epoch 56/100\n",
      "8000/8000 [==============================] - 3s 315us/step - loss: 0.3987 - accuracy: 0.8367\n",
      "Epoch 57/100\n",
      "8000/8000 [==============================] - 3s 339us/step - loss: 0.3981 - accuracy: 0.8388\n",
      "Epoch 58/100\n",
      "8000/8000 [==============================] - 3s 323us/step - loss: 0.3981 - accuracy: 0.8365\n",
      "Epoch 59/100\n",
      "8000/8000 [==============================] - ETA: 0s - loss: 0.3961 - accuracy: 0.83 - 2s 294us/step - loss: 0.3981 - accuracy: 0.8388\n",
      "Epoch 60/100\n",
      "8000/8000 [==============================] - 2s 309us/step - loss: 0.3980 - accuracy: 0.8376\n",
      "Epoch 61/100\n",
      "8000/8000 [==============================] - 3s 327us/step - loss: 0.3974 - accuracy: 0.8384\n",
      "Epoch 62/100\n",
      "8000/8000 [==============================] - 3s 314us/step - loss: 0.3979 - accuracy: 0.8367\n",
      "Epoch 63/100\n",
      "8000/8000 [==============================] - 3s 325us/step - loss: 0.3976 - accuracy: 0.8369\n",
      "Epoch 64/100\n",
      "8000/8000 [==============================] - 3s 344us/step - loss: 0.3974 - accuracy: 0.8370\n",
      "Epoch 65/100\n",
      "8000/8000 [==============================] - 2s 295us/step - loss: 0.3976 - accuracy: 0.8382\n",
      "Epoch 66/100\n",
      "8000/8000 [==============================] - 3s 328us/step - loss: 0.3979 - accuracy: 0.8380\n",
      "Epoch 67/100\n",
      "8000/8000 [==============================] - 2s 268us/step - loss: 0.3976 - accuracy: 0.8364\n",
      "Epoch 68/100\n",
      "8000/8000 [==============================] - 2s 293us/step - loss: 0.3975 - accuracy: 0.8375\n",
      "Epoch 69/100\n",
      "8000/8000 [==============================] - 3s 352us/step - loss: 0.3972 - accuracy: 0.8394\n",
      "Epoch 70/100\n",
      "8000/8000 [==============================] - 3s 373us/step - loss: 0.3971 - accuracy: 0.8367\n",
      "Epoch 71/100\n",
      "8000/8000 [==============================] - 3s 418us/step - loss: 0.3974 - accuracy: 0.8375\n",
      "Epoch 72/100\n",
      "8000/8000 [==============================] - 3s 353us/step - loss: 0.3971 - accuracy: 0.8374\n",
      "Epoch 73/100\n",
      "8000/8000 [==============================] - 3s 344us/step - loss: 0.3970 - accuracy: 0.8388\n",
      "Epoch 74/100\n",
      "8000/8000 [==============================] - 2s 308us/step - loss: 0.3975 - accuracy: 0.8372\n",
      "Epoch 75/100\n",
      "8000/8000 [==============================] - 2s 276us/step - loss: 0.3969 - accuracy: 0.8401\n",
      "Epoch 76/100\n",
      "8000/8000 [==============================] - 2s 257us/step - loss: 0.3969 - accuracy: 0.8380\n",
      "Epoch 77/100\n",
      "8000/8000 [==============================] - 3s 335us/step - loss: 0.3970 - accuracy: 0.8374\n"
     ]
    },
    {
     "name": "stdout",
     "output_type": "stream",
     "text": [
      "Epoch 78/100\n",
      "8000/8000 [==============================] - 2s 269us/step - loss: 0.3965 - accuracy: 0.8388\n",
      "Epoch 79/100\n",
      "8000/8000 [==============================] - 2s 243us/step - loss: 0.3963 - accuracy: 0.8372\n",
      "Epoch 80/100\n",
      "8000/8000 [==============================] - 2s 218us/step - loss: 0.3967 - accuracy: 0.8380\n",
      "Epoch 81/100\n",
      "8000/8000 [==============================] - 2s 232us/step - loss: 0.3966 - accuracy: 0.8388\n",
      "Epoch 82/100\n",
      "8000/8000 [==============================] - 2s 234us/step - loss: 0.3966 - accuracy: 0.8376\n",
      "Epoch 83/100\n",
      "8000/8000 [==============================] - 2s 226us/step - loss: 0.3954 - accuracy: 0.8386\n",
      "Epoch 84/100\n",
      "8000/8000 [==============================] - 2s 221us/step - loss: 0.3961 - accuracy: 0.8403\n",
      "Epoch 85/100\n",
      "8000/8000 [==============================] - 2s 223us/step - loss: 0.3963 - accuracy: 0.8376\n",
      "Epoch 86/100\n",
      "8000/8000 [==============================] - 2s 217us/step - loss: 0.3959 - accuracy: 0.8372\n",
      "Epoch 87/100\n",
      "8000/8000 [==============================] - 2s 219us/step - loss: 0.3956 - accuracy: 0.8380\n",
      "Epoch 88/100\n",
      "8000/8000 [==============================] - 2s 228us/step - loss: 0.3963 - accuracy: 0.8379\n",
      "Epoch 89/100\n",
      "8000/8000 [==============================] - 2s 234us/step - loss: 0.3960 - accuracy: 0.8386\n",
      "Epoch 90/100\n",
      "8000/8000 [==============================] - 2s 226us/step - loss: 0.3956 - accuracy: 0.8384\n",
      "Epoch 91/100\n",
      "8000/8000 [==============================] - 2s 219us/step - loss: 0.3964 - accuracy: 0.8393\n",
      "Epoch 92/100\n",
      "8000/8000 [==============================] - 2s 262us/step - loss: 0.3955 - accuracy: 0.8386\n",
      "Epoch 93/100\n",
      "8000/8000 [==============================] - 2s 240us/step - loss: 0.3956 - accuracy: 0.8391\n",
      "Epoch 94/100\n",
      "8000/8000 [==============================] - 2s 214us/step - loss: 0.3960 - accuracy: 0.8386\n",
      "Epoch 95/100\n",
      "8000/8000 [==============================] - 2s 240us/step - loss: 0.3958 - accuracy: 0.8374\n",
      "Epoch 96/100\n",
      "8000/8000 [==============================] - 2s 274us/step - loss: 0.3954 - accuracy: 0.8382\n",
      "Epoch 97/100\n",
      "8000/8000 [==============================] - 2s 276us/step - loss: 0.3959 - accuracy: 0.8393\n",
      "Epoch 98/100\n",
      "8000/8000 [==============================] - 2s 245us/step - loss: 0.3955 - accuracy: 0.8390\n",
      "Epoch 99/100\n",
      "8000/8000 [==============================] - 2s 248us/step - loss: 0.3964 - accuracy: 0.8404\n",
      "Epoch 100/100\n",
      "8000/8000 [==============================] - 2s 234us/step - loss: 0.3958 - accuracy: 0.8396\n"
     ]
    },
    {
     "data": {
      "text/plain": [
       "<keras.callbacks.callbacks.History at 0x7f7d9c748550>"
      ]
     },
     "execution_count": 24,
     "metadata": {},
     "output_type": "execute_result"
    }
   ],
   "source": [
    "#fitting the ANN to the Training Set\n",
    "classifier.fit(x_train, y_train, batch_size=10, nb_epoch= 100)"
   ]
  },
  {
   "cell_type": "code",
   "execution_count": 25,
   "metadata": {},
   "outputs": [],
   "source": [
    "#predicting the test set results\n",
    "y_pred= classifier.predict(x_test)\n",
    "y_pred= (y_pred>0.5)"
   ]
  },
  {
   "cell_type": "code",
   "execution_count": 26,
   "metadata": {},
   "outputs": [],
   "source": [
    "#making the Confusion Matrix\n",
    "from sklearn.metrics import confusion_matrix\n",
    "cm= confusion_matrix(y_test, y_pred)"
   ]
  },
  {
   "cell_type": "code",
   "execution_count": 27,
   "metadata": {},
   "outputs": [
    {
     "name": "stdout",
     "output_type": "stream",
     "text": [
      "[[False]]\n"
     ]
    }
   ],
   "source": [
    "#making a single prediction\n",
    "#the parameters below correspond to an hypotetical client\n",
    "single_prediction= classifier.predict(sc.transform(np.array([[0.0, 0, 600, 1, 40, 3, 60000, 2, 1, 1, 50000]])))\n",
    "single_prediction= (single_prediction>0.5)\n",
    "print(single_prediction)"
   ]
  },
  {
   "cell_type": "markdown",
   "metadata": {},
   "source": [
    "Evaluating the ANN"
   ]
  },
  {
   "cell_type": "code",
   "execution_count": 28,
   "metadata": {},
   "outputs": [
    {
     "name": "stdout",
     "output_type": "stream",
     "text": [
      "[0.82499999 0.79250002 0.77375001 0.79500002 0.79124999 0.82875001\n",
      " 0.79624999 0.76875001 0.79374999 0.80374998]\n"
     ]
    }
   ],
   "source": [
    "from keras.wrappers.scikit_learn import KerasClassifier\n",
    "from sklearn.model_selection import cross_val_score\n",
    "def build_classifier():\n",
    "    classifier = Sequential()\n",
    "    #adding the input layer and the first hidden layer\n",
    "    classifier.add(Dense(output_dim=6, init= 'uniform', activation= 'relu', input_dim= 11))\n",
    "    #adding the second hidden layer\n",
    "    classifier.add(Dense(output_dim=6, init= 'uniform', activation= 'relu'))\n",
    "    #adding the output layer\n",
    "    classifier.add(Dense(output_dim=1, init= 'uniform', activation= 'sigmoid'))\n",
    "    #compiling the ANN (applying stochastic descent on the whole artificial neural network)\n",
    "    classifier.compile(optimizer= 'adam', loss= 'binary_crossentropy', metrics= ['accuracy'])\n",
    "    return classifier\n",
    "classifier= KerasClassifier(build_fn= build_classifier, batch_size= 10, nb_epoch= 100)\n",
    "accuracies= cross_val_score(estimator= classifier, X= x_train, y= y_train, cv= 10, n_jobs=-1)\n",
    "print(accuracies)"
   ]
  },
  {
   "cell_type": "code",
   "execution_count": 29,
   "metadata": {},
   "outputs": [
    {
     "name": "stdout",
     "output_type": "stream",
     "text": [
      "0.796875 0.018012579396625976\n"
     ]
    }
   ],
   "source": [
    "mean= accuracies.mean()\n",
    "variance= accuracies.std()\n",
    "print(mean, variance)"
   ]
  },
  {
   "cell_type": "markdown",
   "metadata": {},
   "source": [
    "Implementing Dropout"
   ]
  },
  {
   "cell_type": "code",
   "execution_count": 32,
   "metadata": {},
   "outputs": [
    {
     "name": "stdout",
     "output_type": "stream",
     "text": [
      "0.7944999992847442 0.015783693604087615\n"
     ]
    }
   ],
   "source": [
    "from keras.layers import Dropout\n",
    "def build_neuralnet():\n",
    "    nn= Sequential()\n",
    "    #adding the input layer and the first hidden layer with dropout method\n",
    "    nn.add(Dense(output_dim=6, init= 'uniform', activation= 'relu', input_dim= 11))\n",
    "    nn.add(Dropout(p=0.1))\n",
    "    #adding the second hidden layer\n",
    "    nn.add(Dense(output_dim=6, init= 'uniform', activation= 'relu'))\n",
    "    nn.add(Dropout(p=0.1))\n",
    "    #adding the output layer\n",
    "    nn.add(Dense(output_dim=1, init= 'uniform', activation= 'sigmoid'))\n",
    "    #compiling the ANN\n",
    "    nn.compile(optimizer= 'adam', loss= 'binary_crossentropy', metrics= ['accuracy'])\n",
    "    return nn\n",
    "classifier= KerasClassifier(build_fn= build_neuralnet, batch_size= 10, nb_epoch= 100)\n",
    "accuracies= cross_val_score(estimator= classifier, X= x_train, y= y_train, cv= 10, n_jobs=-1)\n",
    "mean= accuracies.mean()\n",
    "variance= accuracies.std()\n",
    "print(mean, variance)"
   ]
  },
  {
   "cell_type": "code",
   "execution_count": null,
   "metadata": {},
   "outputs": [],
   "source": []
  }
 ],
 "metadata": {
  "kernelspec": {
   "display_name": "Python 3",
   "language": "python",
   "name": "python3"
  },
  "language_info": {
   "codemirror_mode": {
    "name": "ipython",
    "version": 3
   },
   "file_extension": ".py",
   "mimetype": "text/x-python",
   "name": "python",
   "nbconvert_exporter": "python",
   "pygments_lexer": "ipython3",
   "version": "3.7.6"
  }
 },
 "nbformat": 4,
 "nbformat_minor": 4
}
